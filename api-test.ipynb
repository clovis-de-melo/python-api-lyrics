{
 "cells": [
  {
   "cell_type": "code",
   "execution_count": 19,
   "metadata": {},
   "outputs": [
    {
     "name": "stdout",
     "output_type": "stream",
     "text": [
      "200\n"
     ]
    }
   ],
   "source": [
    "import requests\n",
    "\n",
    "endpoint = \"https://api.lyrics.ovh/v1/titas/flores\"\n",
    "\n",
    "response = requests.get(endpoint)\n",
    "\n",
    "print(response.status_code)"
   ]
  },
  {
   "cell_type": "code",
   "execution_count": 21,
   "metadata": {},
   "outputs": [
    {
     "data": {
      "text/plain": [
       "{'lyrics': 'Olhei até ficar cansado de ver os meus olhos no espelho\\r\\nChorei por ter despedaçado\\r\\nAs flores que estão no canteiro\\r\\nOs punhos e os pulsos cortados\\r\\nE o resto do meu corpo inteiro\\n\\nHá flores cobrindo o telhado\\n\\nEmbaixo do meu travesseiro\\n\\nHá flores por todos os lados\\n\\nHá flores em tudo o que eu vejo\\n\\n\\n\\nA dor vai curar essas lástimas\\n\\nO soro tem gosto de lágrimas\\n\\nAs flores tem cheiro de morte\\n\\nA dor vai fechar esses cortes\\n\\n\\n\\nFlores\\n\\nFlores\\n\\nAs flores de plástico não morrem'}"
      ]
     },
     "execution_count": 21,
     "metadata": {},
     "output_type": "execute_result"
    }
   ],
   "source": [
    "response.json()"
   ]
  },
  {
   "cell_type": "code",
   "execution_count": 23,
   "metadata": {},
   "outputs": [
    {
     "name": "stdout",
     "output_type": "stream",
     "text": [
      "Olhei até ficar cansado de ver os meus olhos no espelho\n",
      "Chorei por ter despedaçado\n",
      "As flores que estão no canteiro\n",
      "Os punhos e os pulsos cortados\n",
      "E o resto do meu corpo inteiro\n",
      "\n",
      "Há flores cobrindo o telhado\n",
      "\n",
      "Embaixo do meu travesseiro\n",
      "\n",
      "Há flores por todos os lados\n",
      "\n",
      "Há flores em tudo o que eu vejo\n",
      "\n",
      "\n",
      "\n",
      "A dor vai curar essas lástimas\n",
      "\n",
      "O soro tem gosto de lágrimas\n",
      "\n",
      "As flores tem cheiro de morte\n",
      "\n",
      "A dor vai fechar esses cortes\n",
      "\n",
      "\n",
      "\n",
      "Flores\n",
      "\n",
      "Flores\n",
      "\n",
      "As flores de plástico não morrem\n"
     ]
    }
   ],
   "source": [
    "print(response.json()[\"lyrics\"])"
   ]
  },
  {
   "cell_type": "code",
   "execution_count": 25,
   "metadata": {},
   "outputs": [
    {
     "data": {
      "text/plain": [
       "dict_keys(['lyrics'])"
      ]
     },
     "execution_count": 25,
     "metadata": {},
     "output_type": "execute_result"
    }
   ],
   "source": [
    "response.json().keys()"
   ]
  }
 ],
 "metadata": {
  "kernelspec": {
   "display_name": ".venv",
   "language": "python",
   "name": "python3"
  },
  "language_info": {
   "codemirror_mode": {
    "name": "ipython",
    "version": 3
   },
   "file_extension": ".py",
   "mimetype": "text/x-python",
   "name": "python",
   "nbconvert_exporter": "python",
   "pygments_lexer": "ipython3",
   "version": "3.13.1"
  }
 },
 "nbformat": 4,
 "nbformat_minor": 2
}
